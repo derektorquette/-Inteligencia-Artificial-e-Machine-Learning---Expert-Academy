{
  "nbformat": 4,
  "nbformat_minor": 0,
  "metadata": {
    "colab": {
      "provenance": [],
      "include_colab_link": true
    },
    "kernelspec": {
      "name": "python3",
      "display_name": "Python 3"
    }
  },
  "cells": [
    {
      "cell_type": "markdown",
      "metadata": {
        "id": "view-in-github",
        "colab_type": "text"
      },
      "source": [
        "<a href=\"https://colab.research.google.com/github/derektorquette/-Inteligencia-Artificial-e-Machine-Learning---Expert-Academy/blob/main/Vetor_Ordenado_Implementa%C3%A7%C3%A3o.ipynb\" target=\"_parent\"><img src=\"https://colab.research.google.com/assets/colab-badge.svg\" alt=\"Open In Colab\"/></a>"
      ]
    },
    {
      "cell_type": "markdown",
      "metadata": {
        "id": "3L3hMZxPloS9"
      },
      "source": [
        "# Vetor ordenado"
      ]
    },
    {
      "cell_type": "code",
      "metadata": {
        "id": "ilKOzbksUosx"
      },
      "source": [
        "import numpy as np"
      ],
      "execution_count": null,
      "outputs": []
    },
    {
      "cell_type": "code",
      "metadata": {
        "id": "EI9-ginDUr7z"
      },
      "source": [
        "class VetorOrdenado:  # definir a classe 'vetor ordenado'\n",
        "\n",
        "  def __init__(self, capacidade): # construtor recebe o parâmetro capacidade\n",
        "    self.capacidade = capacidade\n",
        "    self.ultima_posicao = -1 # última posição recebe -1 quando o vetor está vazio\n",
        "    self.valores = np.empty(self.capacidade, dtype=int)\n",
        "\n",
        "  # O(n)\n",
        "  def imprime(self):\n",
        "    if self.ultima_posicao == -1:    # função que verifica se o vetor está vazio\n",
        "      print('O vetor está vazio')\n",
        "    else:\n",
        "      for i in range(self.ultima_posicao + 1):  # percorrendo todos os elementos\n",
        "        print(i, ' - ', self.valores[i])\n",
        "\n",
        "  # O(n) depende do número de elementos que temos no vetor\n",
        "  def insere(self, valor):\n",
        "    if self.ultima_posicao == self.capacidade - 1:\n",
        "      print('Capacidade máxima atingida')\n",
        "      return           # sai da função\n",
        "\n",
        "    posicao = 0        # pesquisa linear que percorre os elementos do vetor\n",
        "    for i in range(self.ultima_posicao + 1): # percorrendo todos os elementos\n",
        "      posicao = i\n",
        "      if self.valores[i] > valor:\n",
        "        break # parar a pesquisa de posição\n",
        "      if i == self.ultima_posicao:\n",
        "        posicao = i + 1\n",
        "\n",
        "    x = self.ultima_posicao  # remanejamento dos itens para que seja inserido o elemento\n",
        "    while x >= posicao: # estrutura de repetição ao contrário, começa pela última posição\n",
        "      self.valores[x + 1] = self.valores[x] # a posição subsequente vai receber a posição atual/anterior\n",
        "      x -= 1\n",
        "\n",
        "    self.valores[posicao] = valor  # inserindo o novo valor\n",
        "    self.ultima_posicao += 1 # incrementa o valor"
      ],
      "execution_count": null,
      "outputs": []
    },
    {
      "cell_type": "markdown",
      "source": [
        "## TESTES - INSERÇÃO DE ELEMENTOS EM UM VETOR ORDENADO"
      ],
      "metadata": {
        "id": "cFD6_-vKFXoG"
      }
    },
    {
      "cell_type": "code",
      "metadata": {
        "id": "stsNs_K8nn4r",
        "colab": {
          "base_uri": "https://localhost:8080/",
          "height": 55
        },
        "outputId": "0cceb095-520f-43ac-b7d6-a75bfbfd6c03"
      },
      "source": [
        "vetor = VetorOrdenado(10) # passando 10 elementos pelo vetor\n",
        "vetor.imprime()"
      ],
      "execution_count": null,
      "outputs": [
        {
          "output_type": "stream",
          "text": [
            "O vetor está vazio\n"
          ],
          "name": "stdout"
        }
      ]
    },
    {
      "cell_type": "code",
      "metadata": {
        "id": "6OQR86hMnr74",
        "colab": {
          "base_uri": "https://localhost:8080/",
          "height": 55
        },
        "outputId": "24a67306-41ea-43cb-cb91-c2325a9eccef"
      },
      "source": [
        "vetor.insere(6) # inserindo elementos\n",
        "vetor.imprime()"
      ],
      "execution_count": null,
      "outputs": [
        {
          "output_type": "stream",
          "text": [
            "0  -  6\n"
          ],
          "name": "stdout"
        }
      ]
    },
    {
      "cell_type": "code",
      "metadata": {
        "id": "2SD9iJjrnzpB",
        "colab": {
          "base_uri": "https://localhost:8080/",
          "height": 72
        },
        "outputId": "90c4d2d2-0890-4c55-81a6-fa6f285fbf6e"
      },
      "source": [
        "vetor.insere(4)\n",
        "vetor.imprime()"
      ],
      "execution_count": null,
      "outputs": [
        {
          "output_type": "stream",
          "text": [
            "0  -  4\n",
            "1  -  6\n"
          ],
          "name": "stdout"
        }
      ]
    },
    {
      "cell_type": "code",
      "metadata": {
        "id": "UZiJuluyn4iq",
        "colab": {
          "base_uri": "https://localhost:8080/",
          "height": 90
        },
        "outputId": "a1139beb-1972-4002-8271-423437eb14f0"
      },
      "source": [
        "vetor.insere(3)\n",
        "vetor.imprime()"
      ],
      "execution_count": null,
      "outputs": [
        {
          "output_type": "stream",
          "text": [
            "0  -  3\n",
            "1  -  4\n",
            "2  -  6\n"
          ],
          "name": "stdout"
        }
      ]
    },
    {
      "cell_type": "code",
      "metadata": {
        "id": "-EtyqP3ln--6",
        "colab": {
          "base_uri": "https://localhost:8080/",
          "height": 108
        },
        "outputId": "f144630e-aefb-4e49-f7d3-b216acb9d6ad"
      },
      "source": [
        "vetor.insere(5)\n",
        "vetor.imprime()"
      ],
      "execution_count": null,
      "outputs": [
        {
          "output_type": "stream",
          "text": [
            "0  -  3\n",
            "1  -  4\n",
            "2  -  5\n",
            "3  -  6\n"
          ],
          "name": "stdout"
        }
      ]
    },
    {
      "cell_type": "code",
      "metadata": {
        "id": "Ij44GQWRoE8-",
        "colab": {
          "base_uri": "https://localhost:8080/",
          "height": 125
        },
        "outputId": "1afbfa5b-7a32-4695-db4b-a95890504ba3"
      },
      "source": [
        "vetor.insere(1)\n",
        "vetor.imprime()"
      ],
      "execution_count": null,
      "outputs": [
        {
          "output_type": "stream",
          "text": [
            "0  -  1\n",
            "1  -  3\n",
            "2  -  4\n",
            "3  -  5\n",
            "4  -  6\n"
          ],
          "name": "stdout"
        }
      ]
    },
    {
      "cell_type": "code",
      "metadata": {
        "id": "PHQuMp8aoKX3",
        "colab": {
          "base_uri": "https://localhost:8080/",
          "height": 143
        },
        "outputId": "70c5c040-7c42-4fa8-8cba-92793d0e7296"
      },
      "source": [
        "vetor.insere(8) # o 8 não é inserido na posição correta\n",
        "vetor.imprime()"
      ],
      "execution_count": null,
      "outputs": [
        {
          "output_type": "stream",
          "text": [
            "0  -  1\n",
            "1  -  3\n",
            "2  -  4\n",
            "3  -  5\n",
            "4  -  6\n",
            "5  -  8\n"
          ],
          "name": "stdout"
        }
      ]
    }
  ]
}